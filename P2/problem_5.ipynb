{
 "cells": [
  {
   "cell_type": "markdown",
   "metadata": {},
   "source": [
    "# Building a Trie in Python\n",
    "\n",
    "Before we start let us reiterate the key components of a Trie or Prefix Tree. A trie is a tree-like data structure that stores a dynamic set of strings. Tries are commonly used to facilitate operations like predictive text or autocomplete features on mobile phones or web search.\n",
    "\n",
    "Before we move into the autocomplete function we need to create a working trie for storing strings.  We will create two classes:\n",
    "* A `Trie` class that contains the root node (empty string)\n",
    "* A `TrieNode` class that exposes the general functionality of the Trie, like inserting a word or finding the node which represents a prefix.\n",
    "\n",
    "Give it a try by implementing the `TrieNode` and `Trie` classes below!"
   ]
  },
  {
   "cell_type": "code",
   "execution_count": 1,
   "metadata": {},
   "outputs": [],
   "source": [
    "class TrieNode:\n",
    "    def __init__(self):\n",
    "        ## Initialize this node in the Trie\n",
    "        self.trie_node = {}\n",
    "        self.word_end = False\n",
    "    def insert(self, char):\n",
    "        ## Add a child node in this Trie\n",
    "        self.trie_node[char] = TrieNode()\n",
    "    ## The Trie itself containing the root node and insert/find functions\n",
    "    def suffixes(self):\n",
    "\n",
    "        def suffixes_helper(current_trie, word_end, suffix = '', suffixes_=[]):\n",
    "\n",
    "            if word_end:\n",
    "                suffixes_.append(suffix)\n",
    "                for char in current_trie:\n",
    "                    suffixes_helper(current_trie[char].trie_node, current_trie[char].word_end, suffix= suffix + char)\n",
    "            else:\n",
    "                for char in current_trie:\n",
    "                    suffixes_helper(current_trie[char].trie_node, current_trie[char].word_end, suffix= suffix + char)\n",
    "\n",
    "            return suffixes_\n",
    "\n",
    "        return suffixes_helper(self.trie_node, self.word_end)\n",
    "        \n",
    "        \n",
    "## The Trie itself containing the root node and insert/find functions\n",
    "class Trie:\n",
    "    def __init__(self):\n",
    "        ## Initialize this Trie (add a root node)\n",
    "        self.root = TrieNode()\n",
    "    def insert(self, word):\n",
    "        ## Add a word to the Trie\n",
    "        if type(word) != str:\n",
    "            return\n",
    "        current = self.root\n",
    "        for char in word:\n",
    "            if char not in current.trie_node:\n",
    "                current.insert(char)\n",
    "                current = current.trie_node[char]\n",
    "            else:\n",
    "                current = current.trie_node[char]\n",
    "        current.word_end = True\n",
    "    def find(self, prefix):\n",
    "        ## Find the Trie node that represents this prefix\n",
    "        current = self.root\n",
    "        for char in prefix:\n",
    "            if char in current.trie_node:\n",
    "                current = current.trie_node[char]\n",
    "            else:\n",
    "                return False\n",
    "        return current"
   ]
  },
  {
   "cell_type": "markdown",
   "metadata": {},
   "source": [
    "# Finding Suffixes\n",
    "\n",
    "Now that we have a functioning Trie, we need to add the ability to list suffixes to implement our autocomplete feature.  To do that, we need to implement a new function on the `TrieNode` object that will return all complete word suffixes that exist below it in the trie.  For example, if our Trie contains the words `[\"fun\", \"function\", \"factory\"]` and we ask for suffixes from the `f` node, we would expect to receive `[\"un\", \"unction\", \"actory\"]` back from `node.suffixes()`.\n",
    "\n",
    "Using the code you wrote for the `TrieNode` above, try to add the suffixes function below. (Hint: recurse down the trie, collecting suffixes as you go.)"
   ]
  },
  {
   "cell_type": "code",
   "execution_count": 2,
   "metadata": {},
   "outputs": [],
   "source": [
    "class TrieNode:\n",
    "    def __init__(self):\n",
    "        ## Initialize this node in the Trie\n",
    "        self.trie_node = {}\n",
    "        self.word_end = False\n",
    "    def insert(self, char):\n",
    "        ## Add a child node in this Trie\n",
    "        self.trie_node[char] = TrieNode()\n",
    "    ## The Trie itself containing the root node and insert/find functions\n",
    "    def suffixes(self):\n",
    "\n",
    "        def suffixes_helper(current_trie, word_end, suffix = '', suffixes_=[]):\n",
    "\n",
    "            if word_end:\n",
    "                suffixes_.append(suffix)\n",
    "                for char in current_trie:\n",
    "                    suffixes_helper(current_trie[char].trie_node, current_trie[char].word_end, suffix= suffix + char)\n",
    "            else:\n",
    "                for char in current_trie:\n",
    "                    suffixes_helper(current_trie[char].trie_node, current_trie[char].word_end, suffix= suffix + char)\n",
    "\n",
    "            return suffixes_\n",
    "\n",
    "        return suffixes_helper(self.trie_node, self.word_end)"
   ]
  },
  {
   "cell_type": "markdown",
   "metadata": {},
   "source": [
    "# Testing it all out\n",
    "\n",
    "Run the following code to add some words to your trie and then use the interactive search box to see what your code returns."
   ]
  },
  {
   "cell_type": "code",
   "execution_count": 3,
   "metadata": {},
   "outputs": [],
   "source": [
    "MyTrie = Trie()\n",
    "# None and int type added as edge cases. These values are ignored.\n",
    "wordList = [\n",
    "    \"ant\", \"anthology\", \"antagonist\", \"antonym\", \n",
    "    \"fun\", \"function\", \"factory\", \n",
    "    \"trie\", \"trigger\", \"trigonometry\", \"tripod\",\n",
    "    None,\n",
    "    100\n",
    "]\n",
    "for word in wordList:\n",
    "    MyTrie.insert(word)"
   ]
  },
  {
   "cell_type": "code",
   "execution_count": 4,
   "metadata": {},
   "outputs": [
    {
     "data": {
      "application/vnd.jupyter.widget-view+json": {
       "model_id": "35e97d2ccc124e4da0132d9c2d772914",
       "version_major": 2,
       "version_minor": 0
      },
      "text/plain": [
       "interactive(children=(Text(value='', description='prefix'), Output()), _dom_classes=('widget-interact',))"
      ]
     },
     "metadata": {},
     "output_type": "display_data"
    },
    {
     "data": {
      "text/plain": [
       "<function __main__.f(prefix)>"
      ]
     },
     "execution_count": 4,
     "metadata": {},
     "output_type": "execute_result"
    }
   ],
   "source": [
    "from ipywidgets import widgets\n",
    "from IPython.display import display\n",
    "from ipywidgets import interact\n",
    "def f(prefix):\n",
    "    if prefix != '':\n",
    "        prefixNode = MyTrie.find(prefix)\n",
    "        if prefixNode:\n",
    "            print('\\n'.join(prefixNode.suffixes()))\n",
    "        else:\n",
    "            print(prefix + \" not found\")\n",
    "    else:\n",
    "        print('')\n",
    "interact(f,prefix='')"
   ]
  },
  {
   "cell_type": "code",
   "execution_count": null,
   "metadata": {},
   "outputs": [],
   "source": []
  }
 ],
 "metadata": {
  "interpreter": {
   "hash": "40d3a090f54c6569ab1632332b64b2c03c39dcf918b08424e98f38b5ae0af88f"
  },
  "kernelspec": {
   "display_name": "Python 3.7.4 64-bit ('base': conda)",
   "name": "python3"
  },
  "language_info": {
   "codemirror_mode": {
    "name": "ipython",
    "version": 3
   },
   "file_extension": ".py",
   "mimetype": "text/x-python",
   "name": "python",
   "nbconvert_exporter": "python",
   "pygments_lexer": "ipython3",
   "version": "3.7.4"
  },
  "widgets": {
   "state": {},
   "version": "1.1.2"
  }
 },
 "nbformat": 4,
 "nbformat_minor": 2
}
